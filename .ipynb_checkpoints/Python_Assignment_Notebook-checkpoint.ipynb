{
 "cells": [
  {
   "cell_type": "markdown",
   "metadata": {},
   "source": [
    "# BCB 546X: Python Assignment Details\n",
    "\n",
    "## ** Your Mission: Complete Python code in a Jupyter Notebook ** \n",
    "\n",
    "### -- Functions --\n",
    " 1. Document Dr. X's function with comments and with markdown text in your Jupyter notebook.\n",
    " 2. Write a function that translates a string of nucleotides to amino acids based on Dr. X's pseudo-code suggestion.\n",
    " 3. Write an alternative translation function.\n",
    " 4. Write a function that calculates the molecular weight of each 3 amino acid sequence.\n",
    " 5. Write a function that computes the GC-content of each DNA sequence.\n",
    "\n",
    "### -- In the MAIN part of the script --\n",
    " 6. Add two new columns to the penguin DataFrame: (1) molecular weight and (2) GC content.\n",
    " 7. Call your functions from step 3 (or step 2) and step 4 and fill in the new columns in the DataFrame.\n",
    " 8. Plot a bar-chart of adult body mass per species. In your description of the graph, provide text that answers these questions: What is the smallest penguin species? What else is interesting about this species?\n",
    " 9. Plot a graph that shows the molecular weight as a function of GC content. \n",
    " 10. Write the entire DataFrame to a new CSV file that includes your new columns.\n",
    " 11. **BONUS**: What other visualizations, functions or tasks would you do with this dataset? Add something interesting for fun. (0.5 additional points if your total score is < 15).\n",
    "\n",
    "### -- Additional Instructions (points will be deducted if these instructions are not heeded) --\n",
    "* Do all of this in a Jupyter notebook and push it to a GitHub repository.\n",
    "* Read all comments carefully and answer the questions by including information in your Jupyter notebook.\n",
    "* Document all of your code (and Dr. X's code) very thoroughly so that it is clear what you did.\n",
    "* Be sure to cite (by providing URLs or other appropriate citations) information appropriately in your documented notebook.\n",
    "* Commit and push your completed work in the Jupyter notebook to your repository.\n",
    "* Submit the URL to your git repository via Canvas by the end of the day on November 27, 2019.\n",
    "\n",
    "## -- Disclaimer --\n",
    "Not all of these tasks have been covered in class and you will have to use online resources to find out how to do some of these tasks."
   ]
  },
  {
   "cell_type": "markdown",
   "metadata": {},
   "source": [
    "#### Summary of tasks (delete later)\n",
    "* ~~do docstrings for each of the functions~~\n",
    "* ~~Write function to translate sequences to amino acids~~\n",
    "* ~~write a simpler function using biopython library~~\n",
    "* ~~write function to calclulate weight of amino acid sequence~~\n",
    "* ~~write function to find %GC content~~\n",
    "* ~~add columns for this info to dataframe~~\n",
    "* write for-loop to calculate these values for each \n",
    "* bar chart of mass vs species\n",
    "* plot MW vs GC content"
   ]
  },
  {
   "cell_type": "markdown",
   "metadata": {},
   "source": [
    "# Python Translate Script\n",
    "Here's the start of our Python script. Thanks for completing it for me! - Dr. X\n",
    "\n",
    "**IMPORTANT**: install BioPython so that this will work"
   ]
  },
  {
   "cell_type": "code",
   "execution_count": 3,
   "metadata": {},
   "outputs": [],
   "source": [
    "from Bio import SeqIO\n",
    "from Bio.Data import CodonTable\n",
    "import pandas as pd"
   ]
  },
  {
   "cell_type": "markdown",
   "metadata": {},
   "source": [
    "## FUNCTIONS"
   ]
  },
  {
   "cell_type": "code",
   "execution_count": null,
   "metadata": {},
   "outputs": [],
   "source": [
    "## 1 ##\n",
    "## Dr. X: this gets sequences \n",
    "## Please properly document this function in the Jupyter notebook \n",
    "## Your descriptions of all functions should contain information about what the function does,\n",
    "## as well as information about the return types and arguments."
   ]
  },
  {
   "cell_type": "markdown",
   "metadata": {},
   "source": [
    "### Function `get_sequences_from_file(fasta_fn)`\n",
    "#### Description\n",
    "Obtain sequences from a fasta file and match them with the corresponding species name.\n",
    "\n",
    "#### Details\n",
    "This code uses `Bio.SeqIO.parse()` to read sequence data as a SeqRecord object*, using the arguments 'filename' and 'filetype'. Each record is broken up at the spaces, making the indices [1] and [2] correspond to the genus and species, respectively. The full species name is saved to the empty dictionary with its matching .seq file. The filled dictionary is returned after the loop is completed.\n",
    "\n",
    "#### Parameters\n",
    "* `fasta_fn` : .fasta sequence file\n",
    "\n",
    "#### Output\n",
    "* `sequence_data_dict` : dictionary of species names and .seq files\n",
    "\n",
    "\n",
    "*source: http://biopython.org/DIST/docs/tutorial/Tutorial.html"
   ]
  },
  {
   "cell_type": "code",
   "execution_count": 4,
   "metadata": {},
   "outputs": [],
   "source": [
    "def get_sequences_from_file(fasta_fn):\n",
    "    sequence_data_dict = {}\n",
    "    for record in SeqIO.parse(fasta_fn, \"fasta\"): #first argument is filename, second is filetype\n",
    "        description = record.description.split() #break up each record @ the spaces, index 1 & 2 are genus & species\n",
    "        species_name = description[1] + \" \" + description[2] #combine the genus and species names, with a space between\n",
    "        sequence_data_dict[species_name] = record.seq #define a dictionary entry by species name, assign a .seq file to it based on record name.\n",
    "    return(sequence_data_dict) #return the filled dictionary"
   ]
  },
  {
   "cell_type": "code",
   "execution_count": null,
   "metadata": {},
   "outputs": [],
   "source": [
    "## 2 ##\n",
    "\n",
    "####### YOUR STRING-TRANSLATE FUNCTION ########\n",
    "## Write a function that translates sequences\n",
    "## All sequences start at codon position 1\n",
    "## Complete a function that translates using a loop over the string of nucleotides\n",
    "## Here is  some pseudo-code and suggestions\n",
    "## feel free to change the function and variable names\n",
    "# def translate_function(string_nucleotides): \n",
    "#     mito_table = CodonTable.unambiguous_dna_by_name[\"Vertebrate Mitochondrial\"] \n",
    "#         this should work using BioPython (be sure to check what this returns)\n",
    "#     for-loop through every 3rd position in string_nucleotides to get the codon using range subsets\n",
    "#         # IMPORTANT: if the sequence has a stop codon at the end, you should leave it off\n",
    "#         # this is how you can retrieve the amino acid: mito_table.forward_table[codon]\n",
    "#         add the aa to aa_seq_string\n",
    "#     return(aa_seq_string)"
   ]
  },
  {
   "cell_type": "markdown",
   "metadata": {},
   "source": [
    "### Function `translate_function`\n",
    "#### Description\n",
    "Convert a string of nucleotide sequence to a string of amino acid sequence using the 'Vertebrate Mitochondrial' codon table.\n",
    "\n",
    "#### Details\n",
    "This code first recreates the string of nucleotides as a string of codons, with a space between every set of 3 nucleotides. 'num_codons' is defined as the length of the original string divided by 3, then rounded down to the integer in case there are any incomplete codons. A loop is done through the range of num_codons, and the variable 'codon' is defined as the item in 'codons' with index [i]. If the codon is a stop codon, the loop skips to the next iteration. Otherwise, the codon is translated to an amino acid using the Codon Table. This is added to an initially empty string 'aa_seq_string'. After the loop is completed, 'aa_seq_string' is returned.\n",
    "\n",
    "#### Parameters\n",
    "* `string_nucleotides` : Nucleotide sequence in string format.\n",
    "\n",
    "#### Output\n",
    "* `aa_seq_string` : Amino acid sequence in string format."
   ]
  },
  {
   "cell_type": "code",
   "execution_count": 65,
   "metadata": {},
   "outputs": [],
   "source": [
    "import math #import math for the rounding-down function below\n",
    "def translate_function(string_nucleotides):\n",
    "    mito_table = CodonTable.unambiguous_dna_by_name[\"Vertebrate Mitochondrial\"] #define variable as desired codon table\n",
    "    codons = ' '.join([string_nucleotides[i:i+3] for i in range(0, len(string_nucleotides), 3)]) #recreate nucleotide string as codon string by adding a space every 3 characters.\n",
    "    codons = codons.split() #separate codons into separate elements\n",
    "    num_codons = (math.floor(len(string_nucleotides)/3)) # number of codons is length of the whole string divided by 3. math.floor ensure this number is always an integer by rounding down in the case of an incomplete codon.\n",
    "    aa_seq_string = \"\" #define a string with no characters or spaces\n",
    "    for i in range(num_codons): \n",
    "        codon = codons[i] #defines a codon in the sequence\n",
    "        if codon is (\"TAA\", \"TAG\", \"AGA\", \"AGG\"): # if a codon is a stop codon, exit loop and return string\n",
    "            pass\n",
    "        else:\n",
    "            aa = mito_table.forward_table[codon] # translate codon into an amino acid using the codon table chosen above\n",
    "            aa_seq_string += aa # add amino acid to the growing string of aa's\n",
    "    return aa_seq_string #return the completed string of amino acids"
   ]
  },
  {
   "cell_type": "code",
   "execution_count": null,
   "metadata": {},
   "outputs": [],
   "source": [
    "### 3 ##\n",
    "####### YOUR ALTERNATIVE FUNCTION ########\n",
    "## Is there a better way to write the translation function? (Hint: yes there is.) \n",
    "## Perhaps using available BioPython library utilities?\n",
    "## Please also write this function."
   ]
  },
  {
   "cell_type": "markdown",
   "metadata": {},
   "source": [
    "### Function `translate_alternative`\n",
    "#### Description\n",
    "Convert a string of nucleotide sequence to a string of amino acid sequence with the 'Vertebrate Mitochondrial' codon table using the biopython tool 'translate'*.\n",
    "\n",
    "#### Parameters\n",
    "* `string_nucleotides` : Nucleotide sequence in string format.\n",
    "\n",
    "#### Output\n",
    "* `aa_seq_string` : Amino acid sequence in string format.\n",
    "\n",
    "\n",
    "*source: https://biopython.org/DIST/docs/api/Bio.Seq-module.html"
   ]
  },
  {
   "cell_type": "code",
   "execution_count": 46,
   "metadata": {},
   "outputs": [],
   "source": [
    "def translate_alternative(string_nucleotides):\n",
    "    aa_seq_string = translate(string_nucleotides,table=\"Vertebrate Mitochondrial\",to_stop=True) # use biopython tools to translate nucleotide string to amino acids\n",
    "    return aa_seq_string #return translated string"
   ]
  },
  {
   "cell_type": "code",
   "execution_count": 2,
   "metadata": {},
   "outputs": [],
   "source": [
    "## 4 ##\n",
    "####### YOUR COUNT AA ANALYSIS FUNCTION ########\n",
    "## Write a function that calculates the molecular weight of each amino acid sequence.\n",
    "## For this, you can use some BioPython functions. I think you can use the ProtParam module.\n",
    "## For more info, check this out: http://biopython.org/wiki/ProtParam\n",
    "## So you should import the following before defining your function:\n",
    "from Bio.SeqUtils.ProtParam import ProteinAnalysis\n",
    "# def compute_molecular_weight(aa_seq):\n",
    "#     # I think the ProtParam functions may require aa_seq to be a string.\n",
    "#     # It may not work if the amino acid sequence has stop codons.\n",
    "#     run the ProteinAnalysis() function on aa_seq\n",
    "#\t  return the molecular weight"
   ]
  },
  {
   "cell_type": "markdown",
   "metadata": {},
   "source": [
    "### Function `compute_molecular_weight`\n",
    "#### Description\n",
    "Find the molecular weight of a protein from a string of its amino acid sequence.\n",
    "\n",
    "#### Parameters\n",
    "* `aa_seq` : Sequence of amino acids, may or may not be in string format to begin with.\n",
    "\n",
    "#### Output\n",
    "* `MW` : Molecular weight of the protein.\n"
   ]
  },
  {
   "cell_type": "code",
   "execution_count": 67,
   "metadata": {},
   "outputs": [],
   "source": [
    "from Bio.SeqUtils.ProtParam import ProteinAnalysis #import protein analysis package\n",
    "def compute_molecular_weight(aa_seq):\n",
    "    seq_string = str(aa_seq) #if sequence is not already in string format, convert it\n",
    "    MW = molecular_weight(seq_string) # find the molecular weight of the protein based on the amino acid sequence.\n",
    "    return MW"
   ]
  },
  {
   "cell_type": "code",
   "execution_count": null,
   "metadata": {},
   "outputs": [],
   "source": [
    "## 5 ##\n",
    "####### YOUR GC CONTENT ANALYSIS FUNCTION ########\n",
    "## Write a function that calculates the GC-content (proportion of \"G\" and \"C\") of each DNA sequence \n",
    "## and returns this value."
   ]
  },
  {
   "cell_type": "markdown",
   "metadata": {},
   "source": [
    "### Function `compute_gc_content`\n",
    "#### Description\n",
    "Find the %GC content of a sequence from a string of its nucleotides.\n",
    "\n",
    "#### Parameters\n",
    "* `string_nucleotides` : Nucleotide sequence in string format.\n",
    "\n",
    "#### Output\n",
    "* `gc_percent` : Percent GC content (out of 100)\n",
    "\n",
    "\n",
    "*Source used to find Bio.SeqUtils.GC() https://people.duke.edu/~ccc14/pcfb/biopython/BiopythonSequences.html"
   ]
  },
  {
   "cell_type": "code",
   "execution_count": 68,
   "metadata": {},
   "outputs": [],
   "source": [
    "from Bio.SeqUtils import GC #import GC tool from Biopython SeqUtils\n",
    "def compute_gc_content(string_nucleotides):\n",
    "    gc_percent = GC(string_nucleotides) # find %GC content of string_nucleotides\n",
    "    return gc_percent"
   ]
  },
  {
   "cell_type": "markdown",
   "metadata": {},
   "source": [
    "## MAIN"
   ]
  },
  {
   "cell_type": "code",
   "execution_count": 71,
   "metadata": {},
   "outputs": [],
   "source": [
    "cytb_seqs = get_sequences_from_file(\"penguins_cytb.fasta\") \n",
    "\n",
    "penguins_df = pd.read_csv(\"penguins_mass.csv\") # Includes only data for body mass \n",
    "species_list = list(penguins_df.species)"
   ]
  },
  {
   "cell_type": "code",
   "execution_count": null,
   "metadata": {},
   "outputs": [],
   "source": [
    "## 6 ## \n",
    "## Add two new columns to the penguin DataFrame: (1) molecular weight and (2) GC content.\n",
    "## Set the value to 'NaN' to indicate that these cells are currently empty."
   ]
  },
  {
   "cell_type": "code",
   "execution_count": 88,
   "metadata": {},
   "outputs": [],
   "source": [
    "penguins_copy =penguins_df.copy() #create a copy of the data frame so the original is not modified\n",
    "import numpy as np\n",
    "for index, row in penguins_copy.iterrows(): # iterate through the rows of the dataframe\n",
    "    penguins_copy.loc[index,'molecular.weight'] = np.nan # create column called 'molecular.weight', fill with NaN\n",
    "    penguins_copy.loc[index,'percent.GC'] = np.nan # create column called 'percent.GC', fill with NaN"
   ]
  },
  {
   "cell_type": "code",
   "execution_count": null,
   "metadata": {},
   "outputs": [],
   "source": [
    "## 7 ##\n",
    "## Write a for-loop that translates each sequence and also gets molecular weight and computes the GC content\n",
    "## of each translated sequence and adds those data to DataFrame\n",
    "# for key, value in cytb_seqs.items():\n",
    "#     aa_seq = nuc2aa_translate_function(value) # whichever function you prefer of #2 or #3\n",
    "#     get the molecular weight of aa_seq\n",
    "#     get the GC content of the DNA sequence\n",
    "#     fill in empty cells in DF that you created above"
   ]
  },
  {
   "cell_type": "code",
   "execution_count": null,
   "metadata": {},
   "outputs": [],
   "source": [
    "## 8 ##\n",
    "## Plot a bar-chart of the mass with the x-axes labeled with species names.\n",
    "## *Q1* What is the smallest penguin species? \n",
    "## *Q2* What else is interesting about this species?"
   ]
  },
  {
   "cell_type": "code",
   "execution_count": null,
   "metadata": {},
   "outputs": [],
   "source": [
    "## 9 ##\n",
    "## Plot a visualization of the molecular weight (y-axis) as a function of GC-content (x-axis)."
   ]
  },
  {
   "cell_type": "code",
   "execution_count": null,
   "metadata": {},
   "outputs": [],
   "source": [
    "## 10 ##\n",
    "## Save the new DataFrame to a file called \"penguins_mass_cytb.csv\""
   ]
  },
  {
   "cell_type": "code",
   "execution_count": null,
   "metadata": {},
   "outputs": [],
   "source": [
    "## 11 - BONUS ##\n",
    "## What else can we do with this dataset in Python? \n",
    "## Add functions or anything that might be interesting and fun. (optional)"
   ]
  }
 ],
 "metadata": {
  "kernelspec": {
   "display_name": "Python 3",
   "language": "python",
   "name": "python3"
  },
  "language_info": {
   "codemirror_mode": {
    "name": "ipython",
    "version": 3
   },
   "file_extension": ".py",
   "mimetype": "text/x-python",
   "name": "python",
   "nbconvert_exporter": "python",
   "pygments_lexer": "ipython3",
   "version": "3.6.8"
  }
 },
 "nbformat": 4,
 "nbformat_minor": 2
}
